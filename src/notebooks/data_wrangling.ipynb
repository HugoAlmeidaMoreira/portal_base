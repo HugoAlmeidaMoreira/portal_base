{
 "cells": [
  {
   "cell_type": "code",
   "execution_count": 1,
   "metadata": {},
   "outputs": [],
   "source": [
    "import pandas as pd\n",
    "import concurrent.futures\n",
    "\n",
    "# Define the range of years\n",
    "start_year = 2012\n",
    "end_year = 2024\n",
    "\n",
    "# Function to read a single Excel file\n",
    "def read_excel_file(year):\n",
    "    file_path = f\"F:/portal_base/data/raw/contratospub{year}.xlsx\"\n",
    "    return pd.read_excel(file_path)\n",
    "\n",
    "# Use ThreadPoolExecutor to read files in parallel\n",
    "with concurrent.futures.ThreadPoolExecutor() as executor:\n",
    "    # Map the read_excel_file function to the range of years\n",
    "    df_list = list(executor.map(read_excel_file, range(start_year, end_year + 1)))\n",
    "\n",
    "# Concatenate all DataFrames into a single DataFrame\n",
    "combined_df = pd.concat(df_list, ignore_index=True)\n",
    "\n",
    "# Display the combined DataFrame\n",
    "combined_df.head()\n",
    "\n",
    "\n",
    "# Save as pickle file\n",
    "pkl_output_path = \"F:/portal_base/data/processed/combined_data.pkl\"\n",
    "combined_df.to_pickle(pkl_output_path)"
   ]
  }
 ],
 "metadata": {
  "kernelspec": {
   "display_name": ".venv",
   "language": "python",
   "name": "python3"
  },
  "language_info": {
   "codemirror_mode": {
    "name": "ipython",
    "version": 3
   },
   "file_extension": ".py",
   "mimetype": "text/x-python",
   "name": "python",
   "nbconvert_exporter": "python",
   "pygments_lexer": "ipython3",
   "version": "3.12.7"
  }
 },
 "nbformat": 4,
 "nbformat_minor": 2
}
